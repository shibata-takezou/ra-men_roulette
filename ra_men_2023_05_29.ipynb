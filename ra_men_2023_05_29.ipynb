{
 "cells": [
  {
   "cell_type": "code",
   "execution_count": 2,
   "id": "6ec3f3bf-a1c0-4aa9-94a5-4fe4c7c1a106",
   "metadata": {},
   "outputs": [],
   "source": [
    "import requests\n",
    "from bs4 import BeautifulSoup\n",
    "import time\n",
    "import re\n",
    "import MySQLdb\n",
    "import mysql.connector"
   ]
  },
  {
   "cell_type": "code",
   "execution_count": 3,
   "id": "338bff1e-edd5-4082-a40b-80366aee8ae9",
   "metadata": {},
   "outputs": [],
   "source": [
    "i = 1\n",
    "j = 0\n",
    "pre = 'mie'\n",
    "list = []\n",
    "city = []\n",
    "while i < 2:\n",
    "    url = 'https://ramendb.supleks.jp/search?page=' + str(i) + '&state=' + pre + '&city=&order=point&station-id=0'\n",
    "    r = requests.get(url)\n",
    "    \n",
    "    soup = BeautifulSoup(r.text,'html.parser')\n",
    "    elems = soup.find_all(href=re.compile(\"city\"))\n",
    "    for c in elems:\n",
    "        res = re.search(\"city=&amp\",str(c))#正規表現を用いて除外\n",
    "        if not res:\n",
    "            city.append(c.text)\n",
    "    final = city.pop()#最後は重複がないため残す\n",
    "    if soup.find(\"h4\") is None:\n",
    "        city.append(final)\n",
    "        break\n",
    "    list.append([tag.text for tag in soup('h4')])\n",
    "    list[j].pop()\n",
    "    i += 1\n",
    "    j += 1\n",
    "    \n",
    "    time.sleep(3)"
   ]
  },
  {
   "cell_type": "code",
   "execution_count": null,
   "id": "6b97535b-627e-4d20-a03e-9e0e8e89e96f",
   "metadata": {},
   "outputs": [],
   "source": [
    "i = 1\n",
    "j = 0\n",
    "pre = 'mie'\n",
    "list = []\n",
    "city = []\n",
    "url_inf = []\n",
    "while i < 2:\n",
    "    url = 'https://ramendb.supleks.jp/search?page=' + str(i) + '&state=' + pre + '&city=&order=point&station-id=0'\n",
    "    r = requests.get(url)\n",
    "    \n",
    "    soup = BeautifulSoup(r.text,'html.parser')\n",
    "    \n",
    "    # elems = soup.find_all(href=re.compile(\"city\"))\n",
    "    # for c in elems:\n",
    "    #     res = re.search(\"city=&amp\",str(c))#正規表現を用いて除外\n",
    "    #     if not res:\n",
    "    #         city.append(c.text)\n",
    "    # final = city.pop()#最後は重複がないため残す\n",
    "    # if soup.find(\"h4\") is None:\n",
    "    #     city.append(final)\n",
    "    #     break\n",
    "    # list.append([tag.text for tag in soup('h4')])\n",
    "    # list[j].pop()\n",
    "    # i += 1\n",
    "    # j += 1\n",
    "    \n",
    "    time.sleep(3)"
   ]
  },
  {
   "cell_type": "code",
   "execution_count": 9,
   "id": "989aafef-102e-4c60-ba62-5f6a19a71de4",
   "metadata": {},
   "outputs": [
    {
     "name": "stdout",
     "output_type": "stream",
     "text": [
      "らぁめん福禄店\n",
      "鈴鹿市\n"
     ]
    }
   ],
   "source": [
    "print(list[37][8])\n",
    "print(city[748])"
   ]
  },
  {
   "cell_type": "code",
   "execution_count": 14,
   "id": "4438c7f8-4b23-4906-b9b8-892d3099c6b7",
   "metadata": {},
   "outputs": [
    {
     "name": "stdout",
     "output_type": "stream",
     "text": [
      "749 records inserted.\n"
     ]
    }
   ],
   "source": [
    "import MySQLdb\n",
    "import mysql.connector\n",
    "\n",
    "cnx = None\n",
    "try:\n",
    "    id = 0\n",
    "    i = 0\n",
    "    data = []\n",
    "    pre_num = 24  # 変更忘れないように\n",
    "    cnx = mysql.connector.connect(\n",
    "        user=\"root\",\n",
    "        password=\"takezou0317\",\n",
    "        host=\"127.0.0.1\",\n",
    "        database=\"ra_men\"\n",
    "    )\n",
    "\n",
    "    cursor = cnx.cursor()\n",
    "\n",
    "    sql = '''\n",
    "    INSERT INTO ra_men \n",
    "        (id, name, city, pre_num)\n",
    "    VALUES\n",
    "        (%s, %s, %s, %s)\n",
    "    '''\n",
    "    for j in list:\n",
    "        for k in j:\n",
    "            data.append((id, k, city[i], pre_num))\n",
    "            id += 1\n",
    "            i += 1\n",
    "    cursor.executemany(sql, data)\n",
    "    cnx.commit()\n",
    "    print(f\"{cursor.rowcount} records inserted.\")\n",
    "    cursor.close()\n",
    "\n",
    "except Exception as e:\n",
    "    print(f\"Error Occurred: {e}\")\n",
    "\n",
    "finally:\n",
    "    if cnx is not None and cnx.is_connected():\n",
    "        cnx.close()\n"
   ]
  },
  {
   "cell_type": "code",
   "execution_count": null,
   "id": "3b6f9415-f5c9-4e1e-9d0e-fe33d6d1c476",
   "metadata": {},
   "outputs": [],
   "source": []
  }
 ],
 "metadata": {
  "kernelspec": {
   "display_name": "Python 3 (ipykernel)",
   "language": "python",
   "name": "python3"
  },
  "language_info": {
   "codemirror_mode": {
    "name": "ipython",
    "version": 3
   },
   "file_extension": ".py",
   "mimetype": "text/x-python",
   "name": "python",
   "nbconvert_exporter": "python",
   "pygments_lexer": "ipython3",
   "version": "3.9.10"
  }
 },
 "nbformat": 4,
 "nbformat_minor": 5
}
